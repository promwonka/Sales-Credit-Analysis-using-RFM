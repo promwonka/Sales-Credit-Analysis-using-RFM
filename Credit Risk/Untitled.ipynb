{
 "cells": [
  {
   "cell_type": "code",
   "execution_count": 1,
   "metadata": {},
   "outputs": [],
   "source": [
    "import os\n",
    "import pandas as pd\n",
    "import numpy as np\n",
    "import glob"
   ]
  },
  {
   "cell_type": "code",
   "execution_count": 2,
   "metadata": {},
   "outputs": [
    {
     "name": "stdout",
     "output_type": "stream",
     "text": [
      "Traceback (most recent call last):\r\n",
      "  File \"ledger_pre_process_fn.py\", line 70, in <module>\r\n",
      "    preprocess(cwd)\r\n",
      "  File \"ledger_pre_process_fn.py\", line 26, in preprocess\r\n",
      "    dataset= pd.read_excel(files,encoding = \"unicode_escape\")\r\n",
      "  File \"/home/coris/Documents/new_nb/venv/lib/python3.8/site-packages/pandas/util/_decorators.py\", line 296, in wrapper\r\n",
      "    return func(*args, **kwargs)\r\n",
      "TypeError: read_excel() got an unexpected keyword argument 'encoding'\r\n"
     ]
    }
   ],
   "source": [
    "#!python ledger_pre_process_fn.py"
   ]
  },
  {
   "cell_type": "code",
   "execution_count": 12,
   "metadata": {},
   "outputs": [],
   "source": [
    "def getIndexes(dfObj, value):\n",
    "    listOfPos = list()\n",
    "    result = dfObj.isin([value])\n",
    "    seriesObj = result.any()\n",
    "    columnNames = list(seriesObj[seriesObj == True].index)\n",
    "    for col in columnNames:\n",
    "        rows = list(result[col][result[col] == True].index)\n",
    "        for row in rows:\n",
    "            listOfPos.append((row, col))\n",
    "    return listOfPos"
   ]
  },
  {
   "cell_type": "code",
   "execution_count": 14,
   "metadata": {},
   "outputs": [
    {
     "ename": "ValueError",
     "evalue": "No objects to concatenate",
     "output_type": "error",
     "traceback": [
      "\u001b[0;31m---------------------------------------------------------------------------\u001b[0m",
      "\u001b[0;31mValueError\u001b[0m                                Traceback (most recent call last)",
      "\u001b[0;32m<ipython-input-14-f637e64a075d>\u001b[0m in \u001b[0;36m<module>\u001b[0;34m\u001b[0m\n\u001b[1;32m     39\u001b[0m         \u001b[0;31m#dataset['days'] = dataset['days'].fillna(0)\u001b[0m\u001b[0;34m\u001b[0m\u001b[0;34m\u001b[0m\u001b[0;34m\u001b[0m\u001b[0m\n\u001b[1;32m     40\u001b[0m         \u001b[0mlist_file\u001b[0m\u001b[0;34m.\u001b[0m\u001b[0mappend\u001b[0m\u001b[0;34m(\u001b[0m\u001b[0mdataset\u001b[0m\u001b[0;34m)\u001b[0m\u001b[0;34m\u001b[0m\u001b[0;34m\u001b[0m\u001b[0m\n\u001b[0;32m---> 41\u001b[0;31m \u001b[0mresult\u001b[0m \u001b[0;34m=\u001b[0m \u001b[0mpd\u001b[0m\u001b[0;34m.\u001b[0m\u001b[0mconcat\u001b[0m\u001b[0;34m(\u001b[0m\u001b[0mlist_file\u001b[0m\u001b[0;34m)\u001b[0m\u001b[0;34m\u001b[0m\u001b[0;34m\u001b[0m\u001b[0m\n\u001b[0m\u001b[1;32m     42\u001b[0m \u001b[0mresult\u001b[0m\u001b[0;34m.\u001b[0m\u001b[0msort_values\u001b[0m\u001b[0;34m(\u001b[0m\u001b[0mby\u001b[0m\u001b[0;34m=\u001b[0m\u001b[0;34m[\u001b[0m\u001b[0;34m'customer_name'\u001b[0m\u001b[0;34m,\u001b[0m \u001b[0;34m'Date'\u001b[0m\u001b[0;34m]\u001b[0m\u001b[0;34m)\u001b[0m\u001b[0;34m\u001b[0m\u001b[0;34m\u001b[0m\u001b[0m\n\u001b[1;32m     43\u001b[0m \u001b[0;32mfor\u001b[0m \u001b[0mvalue\u001b[0m \u001b[0;32min\u001b[0m \u001b[0mresult\u001b[0m\u001b[0;34m[\u001b[0m\u001b[0;34m'sales'\u001b[0m\u001b[0;34m]\u001b[0m\u001b[0;34m:\u001b[0m\u001b[0;34m\u001b[0m\u001b[0;34m\u001b[0m\u001b[0m\n",
      "\u001b[0;32m~/.local/lib/python3.8/site-packages/pandas/core/reshape/concat.py\u001b[0m in \u001b[0;36mconcat\u001b[0;34m(objs, axis, join, ignore_index, keys, levels, names, verify_integrity, sort, copy)\u001b[0m\n\u001b[1;32m    272\u001b[0m     \u001b[0mValueError\u001b[0m\u001b[0;34m:\u001b[0m \u001b[0mIndexes\u001b[0m \u001b[0mhave\u001b[0m \u001b[0moverlapping\u001b[0m \u001b[0mvalues\u001b[0m\u001b[0;34m:\u001b[0m \u001b[0;34m[\u001b[0m\u001b[0;34m'a'\u001b[0m\u001b[0;34m]\u001b[0m\u001b[0;34m\u001b[0m\u001b[0;34m\u001b[0m\u001b[0m\n\u001b[1;32m    273\u001b[0m     \"\"\"\n\u001b[0;32m--> 274\u001b[0;31m     op = _Concatenator(\n\u001b[0m\u001b[1;32m    275\u001b[0m         \u001b[0mobjs\u001b[0m\u001b[0;34m,\u001b[0m\u001b[0;34m\u001b[0m\u001b[0;34m\u001b[0m\u001b[0m\n\u001b[1;32m    276\u001b[0m         \u001b[0maxis\u001b[0m\u001b[0;34m=\u001b[0m\u001b[0maxis\u001b[0m\u001b[0;34m,\u001b[0m\u001b[0;34m\u001b[0m\u001b[0;34m\u001b[0m\u001b[0m\n",
      "\u001b[0;32m~/.local/lib/python3.8/site-packages/pandas/core/reshape/concat.py\u001b[0m in \u001b[0;36m__init__\u001b[0;34m(self, objs, axis, join, keys, levels, names, ignore_index, verify_integrity, copy, sort)\u001b[0m\n\u001b[1;32m    329\u001b[0m \u001b[0;34m\u001b[0m\u001b[0m\n\u001b[1;32m    330\u001b[0m         \u001b[0;32mif\u001b[0m \u001b[0mlen\u001b[0m\u001b[0;34m(\u001b[0m\u001b[0mobjs\u001b[0m\u001b[0;34m)\u001b[0m \u001b[0;34m==\u001b[0m \u001b[0;36m0\u001b[0m\u001b[0;34m:\u001b[0m\u001b[0;34m\u001b[0m\u001b[0;34m\u001b[0m\u001b[0m\n\u001b[0;32m--> 331\u001b[0;31m             \u001b[0;32mraise\u001b[0m \u001b[0mValueError\u001b[0m\u001b[0;34m(\u001b[0m\u001b[0;34m\"No objects to concatenate\"\u001b[0m\u001b[0;34m)\u001b[0m\u001b[0;34m\u001b[0m\u001b[0;34m\u001b[0m\u001b[0m\n\u001b[0m\u001b[1;32m    332\u001b[0m \u001b[0;34m\u001b[0m\u001b[0m\n\u001b[1;32m    333\u001b[0m         \u001b[0;32mif\u001b[0m \u001b[0mkeys\u001b[0m \u001b[0;32mis\u001b[0m \u001b[0;32mNone\u001b[0m\u001b[0;34m:\u001b[0m\u001b[0;34m\u001b[0m\u001b[0;34m\u001b[0m\u001b[0m\n",
      "\u001b[0;31mValueError\u001b[0m: No objects to concatenate"
     ]
    }
   ],
   "source": [
    "cwd = os.getcwd()\n",
    "\n",
    "os.chdir(cwd)\n",
    "extension = '.xlsx'\n",
    "all_filenames = [i for i in glob.glob('*.{}'.format(extension))]\n",
    "list_file=[]\n",
    "for files in all_filenames:\n",
    "        dataset= pd.read_excel(files,encoding = \"unicode_escape\")\n",
    "        dataset.columns =['Date','particulars','sales', 'vch type','vch_number','debit','credit']\n",
    "        listOfPositions = getIndexes(dataset, 'Ledger:')\n",
    "        k=listOfPositions[0][0] \n",
    "        dataset = dataset.iloc[k:]\n",
    "        dataset['customer_name']=dataset['particulars']\n",
    "        dataset=dataset.replace(to_replace =\"To\", value =np.nan) \n",
    "        dataset=dataset.replace(to_replace =\"By\", value =np.nan) \n",
    "        dataset=dataset.replace(to_replace =\"Particulars\", value =np.nan) \n",
    "        pd.set_option('display.max_rows',None)\n",
    "        pd.set_option('display.max_columns',None)\n",
    "        cols = ['customer_name']\n",
    "        dataset.loc[:,cols] = dataset.loc[:,cols].ffill()\n",
    "        dataset = dataset[dataset.Date != 'Ledger:']\n",
    "        dataset = dataset[dataset.Date !='Date']\n",
    "        dataset=dataset.drop(['particulars'], axis = 1)\n",
    "        dataset['credit'] = dataset['credit'].fillna(0)\n",
    "        dataset['debit'] = dataset['debit'].fillna(0)\n",
    "        dataset=dataset.drop(['vch type'], axis = 1) \n",
    "        dataset=dataset.drop(['vch_number'], axis = 1)\n",
    "        dataset['Date'] = pd.to_datetime(dataset['Date'], errors='coerce')\n",
    "        dataset=dataset.dropna(subset=['sales'])\n",
    "        cols = ['Date']\n",
    "        dataset.loc[:,cols] = dataset.loc[:,cols].ffill()\n",
    "        dataset['sales'] = dataset['sales'].replace(['GST SALES', 'DISCOUNT ALLOWED', 'CASH','SOUTH INDIAN BANK LTD (CC A/C NO. 0038084000002275)', 'HDFC BANK'],['NP','PAYMENT','PAYMENT','PAYMENT','PAYMENT'])\n",
    "        dataset.reset_index(inplace = True, drop = True)\n",
    "        #dataset['Gross Total']=dataset['credit']-dataset['debit']\n",
    "        #dataset=dataset.drop(['debit'], axis = 1) \n",
    "        #dataset=dataset.drop(['credit'], axis = 1)\n",
    "        #dataset['days'] = dataset.groupby('customer_name')['Date'].diff().apply(lambda x: x.days)\n",
    "        #dataset['balance'] = dataset.groupby('customer_name')['Gross Total'].cumsum()\n",
    "        #dataset['days'] = dataset['days'].fillna(0)\n",
    "        list_file.append(dataset)\n",
    "result = pd.concat(list_file)    \n",
    "result.sort_values(by=['customer_name', 'Date'])\n",
    "for value in result['sales']:\n",
    "    if value == 'Opening Balance':\n",
    "        result.drop_duplicates(subset=['customer_name', 'sales'])\n",
    "result = result[result.sales != 'Closing Balance']\n",
    "result.to_csv(\"calicut_result.csv\")"
   ]
  },
  {
   "cell_type": "code",
   "execution_count": null,
   "metadata": {},
   "outputs": [],
   "source": []
  }
 ],
 "metadata": {
  "kernelspec": {
   "display_name": "Python 3",
   "language": "python",
   "name": "python3"
  },
  "language_info": {
   "codemirror_mode": {
    "name": "ipython",
    "version": 3
   },
   "file_extension": ".py",
   "mimetype": "text/x-python",
   "name": "python",
   "nbconvert_exporter": "python",
   "pygments_lexer": "ipython3",
   "version": "3.8.5"
  }
 },
 "nbformat": 4,
 "nbformat_minor": 4
}
