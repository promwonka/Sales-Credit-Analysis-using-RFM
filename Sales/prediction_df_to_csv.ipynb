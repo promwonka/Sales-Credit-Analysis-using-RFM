{
 "cells": [
  {
   "cell_type": "code",
   "execution_count": 1,
   "metadata": {},
   "outputs": [],
   "source": [
    "import pandas as pd\n",
    "import numpy as np\n",
    "import statsmodels.api as sm\n",
    "from pandas.tseries.offsets import DateOffset"
   ]
  },
  {
   "cell_type": "code",
   "execution_count": 2,
   "metadata": {},
   "outputs": [],
   "source": [
    " data_file=pd.read_csv(\"C:/Users/adit/Desktop/wudi_project_2/assignment_data.csv\")"
   ]
  },
  {
   "cell_type": "code",
   "execution_count": 3,
   "metadata": {},
   "outputs": [],
   "source": [
    "item_codes=[3938,3960]"
   ]
  },
  {
   "cell_type": "code",
   "execution_count": 4,
   "metadata": {},
   "outputs": [],
   "source": [
    "def prediction_df(data_file,item_codes):\n",
    "    data_file['date']= pd.to_datetime(data_file['date'],dayfirst=True)\n",
    "    filtered_data = data_file[~(data_file['billed_quantity'] < 0)]\n",
    "    for i in range(len(item_codes)):\n",
    "        item_id=filtered_data[filtered_data.item_id==item_codes[i]]\n",
    "        item_id['tot_sales']=(item_id['billed_quantity']* item_id['sell_rate'])\n",
    "        item_id=item_id.sort_values(by='date')\n",
    "        item_id.reset_index(inplace = True, drop = True) \n",
    "        item_id['date'] = item_id['date'].dt.strftime('%Y-%m')\n",
    "        new_df=item_id[['date','tot_sales']]\n",
    "        df_zero=new_df.groupby('date',as_index=False).sum()\n",
    "        \n",
    "        \n",
    "        df_zero['date']= pd.to_datetime(df_zero['date'])\n",
    "        df_zero.columns=[\"Month\",\"Sales\"]\n",
    "        df_zero.set_index('Month',inplace=True)\n",
    "        df_zero['Sales First Difference'] = df_zero['Sales'] - df_zero['Sales'].shift(1)\n",
    "        \n",
    "        model=sm.tsa.statespace.SARIMAX(df_zero['Sales'],order=(1, 0, 1),seasonal_order=(1,1,0,12))\n",
    "        results=model.fit()\n",
    "        df_zero['forecast']=results.predict(start=22,end=29,dynamic=True)\n",
    "        \n",
    "        future_dates=[df_zero.index[-1]+ DateOffset(months=x)for x in range(0,10)]\n",
    "        future_datest_df=pd.DataFrame(index=future_dates[1:],columns=df_zero.columns)\n",
    "        \n",
    "        future_df=pd.concat([df_zero,future_datest_df])\n",
    "        future_df['forecast'] = results.predict(start = 25, end = 40, dynamic= True)  \n",
    "        \n",
    "        future_df.to_csv('C:/Users/adit/Desktop/wudi_project_2/prediction_df_item_id'+str(item_codes[i])+'.csv',index=False)\n",
    "\n",
    "        \n",
    "    return future_df\n",
    "        "
   ]
  },
  {
   "cell_type": "code",
   "execution_count": null,
   "metadata": {},
   "outputs": [],
   "source": [
    "prediction_df(data_file,item_codes)"
   ]
  }
 ],
 "metadata": {
  "kernelspec": {
   "display_name": "Python 3",
   "language": "python",
   "name": "python3"
  },
  "language_info": {
   "codemirror_mode": {
    "name": "ipython",
    "version": 3
   },
   "file_extension": ".py",
   "mimetype": "text/x-python",
   "name": "python",
   "nbconvert_exporter": "python",
   "pygments_lexer": "ipython3",
   "version": "3.8.5"
  }
 },
 "nbformat": 4,
 "nbformat_minor": 2
}
