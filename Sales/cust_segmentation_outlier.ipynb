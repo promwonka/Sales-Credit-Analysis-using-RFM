{
 "cells": [
  {
   "cell_type": "code",
   "execution_count": 1,
   "metadata": {},
   "outputs": [],
   "source": [
    "from datetime import datetime, timedelta\n",
    "import pandas as pd\n",
    "from sklearn.cluster import KMeans\n",
    "from sklearn.preprocessing import MinMaxScaler\n",
    "import glob"
   ]
  },
  {
   "cell_type": "code",
   "execution_count": 6,
   "metadata": {},
   "outputs": [
    {
     "name": "stdout",
     "output_type": "stream",
     "text": [
      "1.0.1\n"
     ]
    }
   ],
   "source": [
    "print(pd.__version__)"
   ]
  },
  {
   "cell_type": "code",
   "execution_count": null,
   "metadata": {},
   "outputs": [],
   "source": []
  },
  {
   "cell_type": "code",
   "execution_count": null,
   "metadata": {},
   "outputs": [],
   "source": []
  },
  {
   "cell_type": "code",
   "execution_count": null,
   "metadata": {},
   "outputs": [],
   "source": []
  },
  {
   "cell_type": "code",
   "execution_count": null,
   "metadata": {},
   "outputs": [],
   "source": []
  },
  {
   "cell_type": "code",
   "execution_count": 2,
   "metadata": {},
   "outputs": [],
   "source": [
    "extension = 'xlsx'\n",
    "df_final = pd.DataFrame() \n",
    "files = [i for i in glob.glob('*.{}'.format(extension))]\n",
    "for x in files:\n",
    "        df = pd.read_excel(x, encoding='latin-1')\n",
    "        df_final = pd.concat([df_final,df]) "
   ]
  },
  {
   "cell_type": "code",
   "execution_count": 3,
   "metadata": {},
   "outputs": [],
   "source": [
    "df = df_final"
   ]
  },
  {
   "cell_type": "code",
   "execution_count": 4,
   "metadata": {},
   "outputs": [],
   "source": [
    "df['date'] = pd.to_datetime(df['date'].astype(str), errors='coerce')"
   ]
  },
  {
   "cell_type": "code",
   "execution_count": 5,
   "metadata": {},
   "outputs": [],
   "source": [
    "df = df.dropna()"
   ]
  },
  {
   "cell_type": "code",
   "execution_count": null,
   "metadata": {},
   "outputs": [],
   "source": []
  },
  {
   "cell_type": "code",
   "execution_count": 6,
   "metadata": {},
   "outputs": [],
   "source": [
    "df = df[df.customer_name != 'Cash']"
   ]
  },
  {
   "cell_type": "code",
   "execution_count": 7,
   "metadata": {},
   "outputs": [],
   "source": [
    "df = df[df.customer_name != 'COUNTER SALE']"
   ]
  },
  {
   "cell_type": "code",
   "execution_count": 8,
   "metadata": {},
   "outputs": [],
   "source": [
    "df = df[df.customer_name != 'K C K DENTAL(TVM)-DR.']"
   ]
  },
  {
   "cell_type": "code",
   "execution_count": null,
   "metadata": {},
   "outputs": [],
   "source": []
  },
  {
   "cell_type": "code",
   "execution_count": 9,
   "metadata": {},
   "outputs": [
    {
     "data": {
      "text/html": [
       "<div>\n",
       "<style scoped>\n",
       "    .dataframe tbody tr th:only-of-type {\n",
       "        vertical-align: middle;\n",
       "    }\n",
       "\n",
       "    .dataframe tbody tr th {\n",
       "        vertical-align: top;\n",
       "    }\n",
       "\n",
       "    .dataframe thead th {\n",
       "        text-align: right;\n",
       "    }\n",
       "</style>\n",
       "<table border=\"1\" class=\"dataframe\">\n",
       "  <thead>\n",
       "    <tr style=\"text-align: right;\">\n",
       "      <th></th>\n",
       "      <th>billed_quantity</th>\n",
       "      <th>sale_price</th>\n",
       "      <th>cost_price</th>\n",
       "    </tr>\n",
       "  </thead>\n",
       "  <tbody>\n",
       "    <tr>\n",
       "      <th>count</th>\n",
       "      <td>684313.000000</td>\n",
       "      <td>6.843130e+05</td>\n",
       "      <td>6.843130e+05</td>\n",
       "    </tr>\n",
       "    <tr>\n",
       "      <th>mean</th>\n",
       "      <td>3.930293</td>\n",
       "      <td>7.640406e+02</td>\n",
       "      <td>6.637633e+02</td>\n",
       "    </tr>\n",
       "    <tr>\n",
       "      <th>std</th>\n",
       "      <td>23.811047</td>\n",
       "      <td>5.559463e+03</td>\n",
       "      <td>5.136254e+03</td>\n",
       "    </tr>\n",
       "    <tr>\n",
       "      <th>min</th>\n",
       "      <td>-10.000000</td>\n",
       "      <td>2.000000e-02</td>\n",
       "      <td>1.000000e-02</td>\n",
       "    </tr>\n",
       "    <tr>\n",
       "      <th>25%</th>\n",
       "      <td>1.000000</td>\n",
       "      <td>7.619000e+01</td>\n",
       "      <td>5.000000e+01</td>\n",
       "    </tr>\n",
       "    <tr>\n",
       "      <th>50%</th>\n",
       "      <td>1.000000</td>\n",
       "      <td>1.809500e+02</td>\n",
       "      <td>1.380000e+02</td>\n",
       "    </tr>\n",
       "    <tr>\n",
       "      <th>75%</th>\n",
       "      <td>3.000000</td>\n",
       "      <td>3.571400e+02</td>\n",
       "      <td>2.750000e+02</td>\n",
       "    </tr>\n",
       "    <tr>\n",
       "      <th>max</th>\n",
       "      <td>10695.000000</td>\n",
       "      <td>1.438095e+06</td>\n",
       "      <td>1.009500e+06</td>\n",
       "    </tr>\n",
       "  </tbody>\n",
       "</table>\n",
       "</div>"
      ],
      "text/plain": [
       "       billed_quantity    sale_price    cost_price\n",
       "count    684313.000000  6.843130e+05  6.843130e+05\n",
       "mean          3.930293  7.640406e+02  6.637633e+02\n",
       "std          23.811047  5.559463e+03  5.136254e+03\n",
       "min         -10.000000  2.000000e-02  1.000000e-02\n",
       "25%           1.000000  7.619000e+01  5.000000e+01\n",
       "50%           1.000000  1.809500e+02  1.380000e+02\n",
       "75%           3.000000  3.571400e+02  2.750000e+02\n",
       "max       10695.000000  1.438095e+06  1.009500e+06"
      ]
     },
     "execution_count": 9,
     "metadata": {},
     "output_type": "execute_result"
    }
   ],
   "source": [
    "df.describe()"
   ]
  },
  {
   "cell_type": "code",
   "execution_count": 10,
   "metadata": {},
   "outputs": [],
   "source": [
    "df['profit'] = (df['sale_price'] - df['cost_price'])"
   ]
  },
  {
   "cell_type": "code",
   "execution_count": 11,
   "metadata": {},
   "outputs": [],
   "source": [
    "df_user = pd.DataFrame(df['customer_name'].unique())\n",
    "df_user.columns = ['customer_name']"
   ]
  },
  {
   "cell_type": "markdown",
   "metadata": {},
   "source": [
    "## Creating new columns Recency, Frequency & Profit for a customer"
   ]
  },
  {
   "cell_type": "code",
   "execution_count": 12,
   "metadata": {},
   "outputs": [],
   "source": [
    "df_max_purchase = df.groupby('customer_name').date.max().reset_index()"
   ]
  },
  {
   "cell_type": "code",
   "execution_count": 13,
   "metadata": {},
   "outputs": [],
   "source": [
    "df_max_purchase.columns = ['customer_name','MaxPurchaseDate']"
   ]
  },
  {
   "cell_type": "code",
   "execution_count": 14,
   "metadata": {},
   "outputs": [],
   "source": [
    "df_max_purchase['recency'] = (df_max_purchase['MaxPurchaseDate'].max() - df_max_purchase['MaxPurchaseDate']).dt.days"
   ]
  },
  {
   "cell_type": "code",
   "execution_count": 15,
   "metadata": {},
   "outputs": [],
   "source": [
    "df_user = pd.merge(df_user, df_max_purchase[['customer_name','recency']], on='customer_name')"
   ]
  },
  {
   "cell_type": "code",
   "execution_count": 16,
   "metadata": {},
   "outputs": [],
   "source": [
    "df_frequency = df.groupby('customer_name').date.count().reset_index()"
   ]
  },
  {
   "cell_type": "code",
   "execution_count": 17,
   "metadata": {},
   "outputs": [],
   "source": [
    "df_frequency.columns = ['customer_name','frequency']"
   ]
  },
  {
   "cell_type": "code",
   "execution_count": 18,
   "metadata": {},
   "outputs": [],
   "source": [
    "df_user = pd.merge(df_user, df_frequency, on='customer_name')"
   ]
  },
  {
   "cell_type": "code",
   "execution_count": 19,
   "metadata": {},
   "outputs": [],
   "source": [
    "df_profit = df.groupby('customer_name').profit.sum().reset_index()"
   ]
  },
  {
   "cell_type": "code",
   "execution_count": 20,
   "metadata": {},
   "outputs": [],
   "source": [
    "df_user = pd.merge(df_user, df_profit, on='customer_name')"
   ]
  },
  {
   "cell_type": "code",
   "execution_count": null,
   "metadata": {},
   "outputs": [],
   "source": []
  },
  {
   "cell_type": "markdown",
   "metadata": {},
   "source": [
    "## Normalization"
   ]
  },
  {
   "cell_type": "code",
   "execution_count": 21,
   "metadata": {},
   "outputs": [],
   "source": [
    "scaler = MinMaxScaler()"
   ]
  },
  {
   "cell_type": "code",
   "execution_count": 22,
   "metadata": {},
   "outputs": [],
   "source": [
    "df_user[['recency','frequency','profit']] = scaler.fit_transform(df_user[['recency','frequency','profit']])"
   ]
  },
  {
   "cell_type": "code",
   "execution_count": 23,
   "metadata": {},
   "outputs": [],
   "source": [
    "#df_user.to_csv('test.csv', index =False)"
   ]
  },
  {
   "cell_type": "code",
   "execution_count": null,
   "metadata": {},
   "outputs": [],
   "source": []
  },
  {
   "cell_type": "code",
   "execution_count": 24,
   "metadata": {},
   "outputs": [],
   "source": [
    "#df_user = df_user.fillna(0)"
   ]
  },
  {
   "cell_type": "code",
   "execution_count": 25,
   "metadata": {},
   "outputs": [],
   "source": [
    "#df_user['recency'].isnull().values.any()"
   ]
  },
  {
   "cell_type": "markdown",
   "metadata": {},
   "source": [
    "## Clustering"
   ]
  },
  {
   "cell_type": "code",
   "execution_count": 26,
   "metadata": {},
   "outputs": [],
   "source": [
    "kmeans = KMeans(n_clusters=4)\n",
    "kmeans.fit(df_user[['recency']])\n",
    "df_user['recency_cluster'] = kmeans.predict(df_user[['recency']])"
   ]
  },
  {
   "cell_type": "code",
   "execution_count": 27,
   "metadata": {},
   "outputs": [],
   "source": [
    "def order_cluster(cluster_field_name, target_field_name,df_,ascending):\n",
    "    new_cluster_field_name = 'new_' + cluster_field_name\n",
    "    df_new = df_.groupby(cluster_field_name)[target_field_name].mean().reset_index()\n",
    "    df_new = df_new.sort_values(by=target_field_name,ascending=ascending).reset_index(drop=True)\n",
    "    df_new['index'] = df_new.index\n",
    "    df_final = pd.merge(df_,df_new[[cluster_field_name,'index']], on=cluster_field_name)\n",
    "    df_final = df_final.drop([cluster_field_name],axis=1)\n",
    "    df_final = df_final.rename(columns={\"index\":cluster_field_name})\n",
    "    return df_final"
   ]
  },
  {
   "cell_type": "code",
   "execution_count": 28,
   "metadata": {},
   "outputs": [],
   "source": [
    "df_user = order_cluster('recency_cluster', 'recency',df_user,False)"
   ]
  },
  {
   "cell_type": "code",
   "execution_count": 29,
   "metadata": {},
   "outputs": [],
   "source": [
    "kmeans = KMeans(n_clusters=4)\n",
    "kmeans.fit(df_user[['frequency']])\n",
    "df_user['frequency_cluster'] = kmeans.predict(df_user[['frequency']])"
   ]
  },
  {
   "cell_type": "code",
   "execution_count": 30,
   "metadata": {},
   "outputs": [],
   "source": [
    "df_user = order_cluster('frequency_cluster', 'frequency',df_user,True)"
   ]
  },
  {
   "cell_type": "code",
   "execution_count": 31,
   "metadata": {},
   "outputs": [],
   "source": [
    "kmeans = KMeans(n_clusters=4)\n",
    "kmeans.fit(df_user[['profit']])\n",
    "df_user['profit_cluster'] = kmeans.predict(df_user[['profit']])"
   ]
  },
  {
   "cell_type": "code",
   "execution_count": 32,
   "metadata": {},
   "outputs": [],
   "source": [
    "df_user = order_cluster('profit_cluster', 'profit',df_user,True)"
   ]
  },
  {
   "cell_type": "code",
   "execution_count": 33,
   "metadata": {},
   "outputs": [
    {
     "data": {
      "text/html": [
       "<div>\n",
       "<style scoped>\n",
       "    .dataframe tbody tr th:only-of-type {\n",
       "        vertical-align: middle;\n",
       "    }\n",
       "\n",
       "    .dataframe tbody tr th {\n",
       "        vertical-align: top;\n",
       "    }\n",
       "\n",
       "    .dataframe thead th {\n",
       "        text-align: right;\n",
       "    }\n",
       "</style>\n",
       "<table border=\"1\" class=\"dataframe\">\n",
       "  <thead>\n",
       "    <tr style=\"text-align: right;\">\n",
       "      <th></th>\n",
       "      <th>count</th>\n",
       "      <th>mean</th>\n",
       "      <th>std</th>\n",
       "      <th>min</th>\n",
       "      <th>25%</th>\n",
       "      <th>50%</th>\n",
       "      <th>75%</th>\n",
       "      <th>max</th>\n",
       "    </tr>\n",
       "    <tr>\n",
       "      <th>recency_cluster</th>\n",
       "      <th></th>\n",
       "      <th></th>\n",
       "      <th></th>\n",
       "      <th></th>\n",
       "      <th></th>\n",
       "      <th></th>\n",
       "      <th></th>\n",
       "      <th></th>\n",
       "    </tr>\n",
       "  </thead>\n",
       "  <tbody>\n",
       "    <tr>\n",
       "      <th>0</th>\n",
       "      <td>947.0</td>\n",
       "      <td>0.798547</td>\n",
       "      <td>0.086912</td>\n",
       "      <td>0.659136</td>\n",
       "      <td>0.741493</td>\n",
       "      <td>0.793537</td>\n",
       "      <td>0.839720</td>\n",
       "      <td>1.000000</td>\n",
       "    </tr>\n",
       "    <tr>\n",
       "      <th>1</th>\n",
       "      <td>1074.0</td>\n",
       "      <td>0.516748</td>\n",
       "      <td>0.070002</td>\n",
       "      <td>0.406634</td>\n",
       "      <td>0.459608</td>\n",
       "      <td>0.507578</td>\n",
       "      <td>0.575136</td>\n",
       "      <td>0.655133</td>\n",
       "    </tr>\n",
       "    <tr>\n",
       "      <th>2</th>\n",
       "      <td>1450.0</td>\n",
       "      <td>0.294469</td>\n",
       "      <td>0.064991</td>\n",
       "      <td>0.180726</td>\n",
       "      <td>0.238848</td>\n",
       "      <td>0.291679</td>\n",
       "      <td>0.353088</td>\n",
       "      <td>0.406348</td>\n",
       "    </tr>\n",
       "    <tr>\n",
       "      <th>3</th>\n",
       "      <td>2244.0</td>\n",
       "      <td>0.064882</td>\n",
       "      <td>0.056337</td>\n",
       "      <td>0.000000</td>\n",
       "      <td>0.009151</td>\n",
       "      <td>0.065485</td>\n",
       "      <td>0.108450</td>\n",
       "      <td>0.180440</td>\n",
       "    </tr>\n",
       "  </tbody>\n",
       "</table>\n",
       "</div>"
      ],
      "text/plain": [
       "                  count      mean       std       min       25%       50%  \\\n",
       "recency_cluster                                                             \n",
       "0                 947.0  0.798547  0.086912  0.659136  0.741493  0.793537   \n",
       "1                1074.0  0.516748  0.070002  0.406634  0.459608  0.507578   \n",
       "2                1450.0  0.294469  0.064991  0.180726  0.238848  0.291679   \n",
       "3                2244.0  0.064882  0.056337  0.000000  0.009151  0.065485   \n",
       "\n",
       "                      75%       max  \n",
       "recency_cluster                      \n",
       "0                0.839720  1.000000  \n",
       "1                0.575136  0.655133  \n",
       "2                0.353088  0.406348  \n",
       "3                0.108450  0.180440  "
      ]
     },
     "execution_count": 33,
     "metadata": {},
     "output_type": "execute_result"
    }
   ],
   "source": [
    "df_user.groupby('recency_cluster')['recency'].describe()"
   ]
  },
  {
   "cell_type": "code",
   "execution_count": 34,
   "metadata": {},
   "outputs": [
    {
     "data": {
      "text/html": [
       "<div>\n",
       "<style scoped>\n",
       "    .dataframe tbody tr th:only-of-type {\n",
       "        vertical-align: middle;\n",
       "    }\n",
       "\n",
       "    .dataframe tbody tr th {\n",
       "        vertical-align: top;\n",
       "    }\n",
       "\n",
       "    .dataframe thead th {\n",
       "        text-align: right;\n",
       "    }\n",
       "</style>\n",
       "<table border=\"1\" class=\"dataframe\">\n",
       "  <thead>\n",
       "    <tr style=\"text-align: right;\">\n",
       "      <th></th>\n",
       "      <th>count</th>\n",
       "      <th>mean</th>\n",
       "      <th>std</th>\n",
       "      <th>min</th>\n",
       "      <th>25%</th>\n",
       "      <th>50%</th>\n",
       "      <th>75%</th>\n",
       "      <th>max</th>\n",
       "    </tr>\n",
       "    <tr>\n",
       "      <th>frequency_cluster</th>\n",
       "      <th></th>\n",
       "      <th></th>\n",
       "      <th></th>\n",
       "      <th></th>\n",
       "      <th></th>\n",
       "      <th></th>\n",
       "      <th></th>\n",
       "      <th></th>\n",
       "    </tr>\n",
       "  </thead>\n",
       "  <tbody>\n",
       "    <tr>\n",
       "      <th>0</th>\n",
       "      <td>5158.0</td>\n",
       "      <td>0.007456</td>\n",
       "      <td>0.011027</td>\n",
       "      <td>0.000000</td>\n",
       "      <td>0.000310</td>\n",
       "      <td>0.002017</td>\n",
       "      <td>0.010239</td>\n",
       "      <td>0.048402</td>\n",
       "    </tr>\n",
       "    <tr>\n",
       "      <th>1</th>\n",
       "      <td>481.0</td>\n",
       "      <td>0.089204</td>\n",
       "      <td>0.035259</td>\n",
       "      <td>0.048557</td>\n",
       "      <td>0.060348</td>\n",
       "      <td>0.078343</td>\n",
       "      <td>0.111697</td>\n",
       "      <td>0.185541</td>\n",
       "    </tr>\n",
       "    <tr>\n",
       "      <th>2</th>\n",
       "      <td>72.0</td>\n",
       "      <td>0.285435</td>\n",
       "      <td>0.080318</td>\n",
       "      <td>0.194384</td>\n",
       "      <td>0.221649</td>\n",
       "      <td>0.263885</td>\n",
       "      <td>0.325977</td>\n",
       "      <td>0.528700</td>\n",
       "    </tr>\n",
       "    <tr>\n",
       "      <th>3</th>\n",
       "      <td>4.0</td>\n",
       "      <td>0.839707</td>\n",
       "      <td>0.145002</td>\n",
       "      <td>0.653739</td>\n",
       "      <td>0.776489</td>\n",
       "      <td>0.852544</td>\n",
       "      <td>0.915762</td>\n",
       "      <td>1.000000</td>\n",
       "    </tr>\n",
       "  </tbody>\n",
       "</table>\n",
       "</div>"
      ],
      "text/plain": [
       "                    count      mean       std       min       25%       50%  \\\n",
       "frequency_cluster                                                             \n",
       "0                  5158.0  0.007456  0.011027  0.000000  0.000310  0.002017   \n",
       "1                   481.0  0.089204  0.035259  0.048557  0.060348  0.078343   \n",
       "2                    72.0  0.285435  0.080318  0.194384  0.221649  0.263885   \n",
       "3                     4.0  0.839707  0.145002  0.653739  0.776489  0.852544   \n",
       "\n",
       "                        75%       max  \n",
       "frequency_cluster                      \n",
       "0                  0.010239  0.048402  \n",
       "1                  0.111697  0.185541  \n",
       "2                  0.325977  0.528700  \n",
       "3                  0.915762  1.000000  "
      ]
     },
     "execution_count": 34,
     "metadata": {},
     "output_type": "execute_result"
    }
   ],
   "source": [
    "df_user.groupby('frequency_cluster')['frequency'].describe()"
   ]
  },
  {
   "cell_type": "markdown",
   "metadata": {},
   "source": [
    "## Overall Score"
   ]
  },
  {
   "cell_type": "code",
   "execution_count": 35,
   "metadata": {},
   "outputs": [],
   "source": [
    "df_user['overall_score'] = df_user['recency_cluster'] + df_user['frequency_cluster'] + 1.33*(df_user['profit_cluster'])"
   ]
  },
  {
   "cell_type": "code",
   "execution_count": 36,
   "metadata": {},
   "outputs": [],
   "source": [
    "df_user['segment'] = 'Low-Value'\n",
    "df_user.loc[df_user['overall_score']>2,'segment'] = 'Mid-Value' \n",
    "df_user.loc[df_user['overall_score']>4,'segment'] = 'High-Value' "
   ]
  },
  {
   "cell_type": "code",
   "execution_count": 37,
   "metadata": {},
   "outputs": [
    {
     "data": {
      "text/html": [
       "<div>\n",
       "<style scoped>\n",
       "    .dataframe tbody tr th:only-of-type {\n",
       "        vertical-align: middle;\n",
       "    }\n",
       "\n",
       "    .dataframe tbody tr th {\n",
       "        vertical-align: top;\n",
       "    }\n",
       "\n",
       "    .dataframe thead th {\n",
       "        text-align: right;\n",
       "    }\n",
       "</style>\n",
       "<table border=\"1\" class=\"dataframe\">\n",
       "  <thead>\n",
       "    <tr style=\"text-align: right;\">\n",
       "      <th></th>\n",
       "      <th>customer_name</th>\n",
       "      <th>recency</th>\n",
       "      <th>frequency</th>\n",
       "      <th>profit</th>\n",
       "      <th>recency_cluster</th>\n",
       "      <th>frequency_cluster</th>\n",
       "      <th>profit_cluster</th>\n",
       "      <th>overall_score</th>\n",
       "      <th>segment</th>\n",
       "    </tr>\n",
       "  </thead>\n",
       "  <tbody>\n",
       "    <tr>\n",
       "      <th>0</th>\n",
       "      <td>DR,ALIKUTTY,KOTTAKKAL</td>\n",
       "      <td>0.585359</td>\n",
       "      <td>0.049643</td>\n",
       "      <td>0.385074</td>\n",
       "      <td>1</td>\n",
       "      <td>1</td>\n",
       "      <td>1</td>\n",
       "      <td>3.33</td>\n",
       "      <td>Mid-Value</td>\n",
       "    </tr>\n",
       "    <tr>\n",
       "      <th>1</th>\n",
       "      <td>DR.REJITH MANGALASSERY, MANANTHAVADY</td>\n",
       "      <td>0.585359</td>\n",
       "      <td>0.123487</td>\n",
       "      <td>0.376859</td>\n",
       "      <td>1</td>\n",
       "      <td>1</td>\n",
       "      <td>1</td>\n",
       "      <td>3.33</td>\n",
       "      <td>Mid-Value</td>\n",
       "    </tr>\n",
       "    <tr>\n",
       "      <th>2</th>\n",
       "      <td>DR.MOYNUDHEEN, PULIKKAL</td>\n",
       "      <td>0.585073</td>\n",
       "      <td>0.068725</td>\n",
       "      <td>0.384385</td>\n",
       "      <td>1</td>\n",
       "      <td>1</td>\n",
       "      <td>1</td>\n",
       "      <td>3.33</td>\n",
       "      <td>Mid-Value</td>\n",
       "    </tr>\n",
       "    <tr>\n",
       "      <th>3</th>\n",
       "      <td>DR.WASEEM.MAHE.</td>\n",
       "      <td>0.452960</td>\n",
       "      <td>0.071052</td>\n",
       "      <td>0.380403</td>\n",
       "      <td>1</td>\n",
       "      <td>1</td>\n",
       "      <td>1</td>\n",
       "      <td>3.33</td>\n",
       "      <td>Mid-Value</td>\n",
       "    </tr>\n",
       "    <tr>\n",
       "      <th>4</th>\n",
       "      <td>DR. MANJU, SULTHAN BATHERY</td>\n",
       "      <td>0.599371</td>\n",
       "      <td>0.050884</td>\n",
       "      <td>0.383345</td>\n",
       "      <td>1</td>\n",
       "      <td>1</td>\n",
       "      <td>1</td>\n",
       "      <td>3.33</td>\n",
       "      <td>Mid-Value</td>\n",
       "    </tr>\n",
       "  </tbody>\n",
       "</table>\n",
       "</div>"
      ],
      "text/plain": [
       "                          customer_name   recency  frequency    profit  \\\n",
       "0                 DR,ALIKUTTY,KOTTAKKAL  0.585359   0.049643  0.385074   \n",
       "1  DR.REJITH MANGALASSERY, MANANTHAVADY  0.585359   0.123487  0.376859   \n",
       "2               DR.MOYNUDHEEN, PULIKKAL  0.585073   0.068725  0.384385   \n",
       "3                       DR.WASEEM.MAHE.  0.452960   0.071052  0.380403   \n",
       "4            DR. MANJU, SULTHAN BATHERY  0.599371   0.050884  0.383345   \n",
       "\n",
       "   recency_cluster  frequency_cluster  profit_cluster  overall_score  \\\n",
       "0                1                  1               1           3.33   \n",
       "1                1                  1               1           3.33   \n",
       "2                1                  1               1           3.33   \n",
       "3                1                  1               1           3.33   \n",
       "4                1                  1               1           3.33   \n",
       "\n",
       "     segment  \n",
       "0  Mid-Value  \n",
       "1  Mid-Value  \n",
       "2  Mid-Value  \n",
       "3  Mid-Value  \n",
       "4  Mid-Value  "
      ]
     },
     "execution_count": 37,
     "metadata": {},
     "output_type": "execute_result"
    }
   ],
   "source": [
    "df_user.head()"
   ]
  },
  {
   "cell_type": "code",
   "execution_count": 38,
   "metadata": {},
   "outputs": [],
   "source": [
    "df_user.to_csv('nonout_cust_seg.csv', index=False)"
   ]
  },
  {
   "cell_type": "code",
   "execution_count": null,
   "metadata": {},
   "outputs": [],
   "source": []
  }
 ],
 "metadata": {
  "kernelspec": {
   "display_name": "Python 3",
   "language": "python",
   "name": "python3"
  },
  "language_info": {
   "codemirror_mode": {
    "name": "ipython",
    "version": 3
   },
   "file_extension": ".py",
   "mimetype": "text/x-python",
   "name": "python",
   "nbconvert_exporter": "python",
   "pygments_lexer": "ipython3",
   "version": "3.8.5"
  }
 },
 "nbformat": 4,
 "nbformat_minor": 4
}
