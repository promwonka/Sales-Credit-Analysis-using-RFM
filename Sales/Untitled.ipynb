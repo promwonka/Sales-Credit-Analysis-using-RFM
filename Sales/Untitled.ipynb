{
 "cells": [
  {
   "cell_type": "code",
   "execution_count": null,
   "metadata": {},
   "outputs": [],
   "source": []
  },
  {
   "cell_type": "code",
   "execution_count": 1,
   "metadata": {},
   "outputs": [
    {
     "name": "stdout",
     "output_type": "stream",
     "text": [
      "        date  ... cost_price\n",
      "0 2015-02-19  ...     140.00\n",
      "1 2013-06-04  ...      45.00\n",
      "2 2015-05-14  ...     300.00\n",
      "3 2016-03-22  ...        NaN\n",
      "4 2016-03-28  ...    5533.33\n",
      "\n",
      "[5 rows x 6 columns]\n"
     ]
    },
    {
     "name": "stderr",
     "output_type": "stream",
     "text": [
      "cust_function-churn_outl.py:27: UserWarning: Boolean Series key will be reindexed to match DataFrame index.\n",
      "  df_final = df_final[df.customer_name != 'Cash']\n",
      "cust_function-churn_outl.py:28: UserWarning: Boolean Series key will be reindexed to match DataFrame index.\n",
      "  df_final = df_final[df.customer_name != 'COUNTER SALE']\n",
      "cust_function-churn_outl.py:29: UserWarning: Boolean Series key will be reindexed to match DataFrame index.\n",
      "  df_final = df_final[df.customer_name != 'K C K DENTAL(TVM)-DR.']\n"
     ]
    }
   ],
   "source": [
    "!python cust_function-churn_outl.py"
   ]
  },
  {
   "cell_type": "code",
   "execution_count": null,
   "metadata": {},
   "outputs": [],
   "source": []
  }
 ],
 "metadata": {
  "kernelspec": {
   "display_name": "Python 3",
   "language": "python",
   "name": "python3"
  },
  "language_info": {
   "codemirror_mode": {
    "name": "ipython",
    "version": 3
   },
   "file_extension": ".py",
   "mimetype": "text/x-python",
   "name": "python",
   "nbconvert_exporter": "python",
   "pygments_lexer": "ipython3",
   "version": "3.7.6"
  }
 },
 "nbformat": 4,
 "nbformat_minor": 4
}
